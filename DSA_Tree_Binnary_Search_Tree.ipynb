{
  "nbformat": 4,
  "nbformat_minor": 0,
  "metadata": {
    "colab": {
      "provenance": [],
      "authorship_tag": "ABX9TyO6wdPvfkKokzPkK/Yj/Csm",
      "include_colab_link": true
    },
    "kernelspec": {
      "name": "python3",
      "display_name": "Python 3"
    },
    "language_info": {
      "name": "python"
    }
  },
  "cells": [
    {
      "cell_type": "markdown",
      "metadata": {
        "id": "view-in-github",
        "colab_type": "text"
      },
      "source": [
        "<a href=\"https://colab.research.google.com/github/UzairYusuf/Data-Structure-Algo-DSA-/blob/main/DSA_Tree_Binnary_Search_Tree.ipynb\" target=\"_parent\"><img src=\"https://colab.research.google.com/assets/colab-badge.svg\" alt=\"Open In Colab\"/></a>"
      ]
    },
    {
      "cell_type": "markdown",
      "source": [],
      "metadata": {
        "id": "6NzwkoCfhgE9"
      }
    },
    {
      "cell_type": "code",
      "source": [
        "class TreeNode:\n",
        "    \"\"\"\n",
        "    Represents a node in a tree data structure.\n",
        "\n",
        "    Attributes:\n",
        "        data (str): The value stored in the node.\n",
        "        left (TreeNode): Reference to the left child node (None if no child).\n",
        "        right (TreeNode): Reference to the right child node (None if no child).\n",
        "    \"\"\"\n",
        "\n",
        "    def __init__(self, data):\n",
        "        \"\"\"\n",
        "        Initializes a new TreeNode instance.\n",
        "\n",
        "        Args:\n",
        "            data (str): The value to store in the node.\n",
        "        \"\"\"\n",
        "        self.data = data\n",
        "        self.left = None\n",
        "        self.right = None\n",
        "\n",
        "def preOrderTraversal(node):\n",
        "  if node is None:\n",
        "    return\n",
        "\n",
        "  print(node.data, end= \", \" )\n",
        "  preOrderTraversal(node.left)\n",
        "  preOrderTraversal(node.right)\n",
        "\n",
        "def search(node, target):\n",
        "  if node is None:\n",
        "    return None\n",
        "  elif node.data == target:\n",
        "    return node\n",
        "  elif target < node.data:\n",
        "    return search(node.left, target)\n",
        "  else:\n",
        "    return search(node.right, target)\n",
        "\n",
        "# Create the tree structure\n",
        "root = TreeNode(13)\n",
        "nodeA = TreeNode(7)\n",
        "nodeB = TreeNode(15)\n",
        "nodeC = TreeNode(3)\n",
        "nodeD = TreeNode(8)\n",
        "nodeE = TreeNode(14)\n",
        "nodeF = TreeNode(19)\n",
        "nodeG = TreeNode(18)\n",
        "\n",
        "root.left = nodeA\n",
        "root.right = nodeB\n",
        "\n",
        "nodeA.left = nodeC\n",
        "nodeA.right = nodeD\n",
        "\n",
        "nodeB.left = nodeE\n",
        "nodeB.right = nodeF\n",
        "\n",
        "nodeF.left = nodeG\n",
        "\n",
        "preOrderTraversal(root)\n",
        "print()\n",
        "\n",
        "result = search(root, 10)\n",
        "\n",
        "if result:\n",
        "  print(f\"We found the node {result.data} in this tree.\")\n",
        "else:\n",
        "  print(\"Node not found.\")\n",
        "\n",
        "# Print the value of the node referenced by root.right.right.data\n",
        "# print(\"Value:\", root.left.left.data)  # Output: Value: F"
      ],
      "metadata": {
        "colab": {
          "base_uri": "https://localhost:8080/"
        },
        "id": "_SPUzbUf06vU",
        "outputId": "5d226e07-aa10-4d7f-c155-cb21954c4a1d"
      },
      "execution_count": 7,
      "outputs": [
        {
          "output_type": "stream",
          "name": "stdout",
          "text": [
            "13, 7, 3, 8, 15, 14, 19, 18, \n",
            "Node not found.\n"
          ]
        }
      ]
    },
    {
      "cell_type": "code",
      "source": [],
      "metadata": {
        "id": "BSc8oN7JJpbA"
      },
      "execution_count": null,
      "outputs": []
    }
  ]
}