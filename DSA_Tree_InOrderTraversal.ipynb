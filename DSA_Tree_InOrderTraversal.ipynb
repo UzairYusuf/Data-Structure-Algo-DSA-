{
  "nbformat": 4,
  "nbformat_minor": 0,
  "metadata": {
    "colab": {
      "provenance": [],
      "authorship_tag": "ABX9TyOwQTQUheQakRBWbxvqJq/j",
      "include_colab_link": true
    },
    "kernelspec": {
      "name": "python3",
      "display_name": "Python 3"
    },
    "language_info": {
      "name": "python"
    }
  },
  "cells": [
    {
      "cell_type": "markdown",
      "metadata": {
        "id": "view-in-github",
        "colab_type": "text"
      },
      "source": [
        "<a href=\"https://colab.research.google.com/github/UzairYusuf/Data-Structure-Algo-DSA-/blob/main/DSA_Tree_InOrderTraversal.ipynb\" target=\"_parent\"><img src=\"https://colab.research.google.com/assets/colab-badge.svg\" alt=\"Open In Colab\"/></a>"
      ]
    },
    {
      "cell_type": "markdown",
      "source": [],
      "metadata": {
        "id": "6NzwkoCfhgE9"
      }
    },
    {
      "cell_type": "code",
      "source": [
        "class TreeNode:\n",
        "    \"\"\"\n",
        "    Represents a node in a tree data structure.\n",
        "\n",
        "    Attributes:\n",
        "        data (str): The value stored in the node.\n",
        "        left (TreeNode): Reference to the left child node (None if no child).\n",
        "        right (TreeNode): Reference to the right child node (None if no child).\n",
        "    \"\"\"\n",
        "\n",
        "    def __init__(self, data):\n",
        "        \"\"\"\n",
        "        Initializes a new TreeNode instance.\n",
        "\n",
        "        Args:\n",
        "            data (str): The value to store in the node.\n",
        "        \"\"\"\n",
        "        self.data = data\n",
        "        self.left = None\n",
        "        self.right = None\n",
        "\n",
        "def InOrderTraversal(node):\n",
        "  if node is None:\n",
        "    return\n",
        "\n",
        "  InOrderTraversal(node.left)\n",
        "  print(node.data, end= \", \" )\n",
        "  InOrderTraversal(node.right)\n",
        "\n",
        "# Create the tree structure\n",
        "root = TreeNode('R')\n",
        "nodeA = TreeNode('A')\n",
        "nodeB = TreeNode('B')\n",
        "nodeC = TreeNode('C')\n",
        "nodeD = TreeNode('D')\n",
        "nodeE = TreeNode('E')\n",
        "nodeF = TreeNode('F')\n",
        "nodeG = TreeNode('G')\n",
        "\n",
        "root.left = nodeA\n",
        "root.right = nodeB\n",
        "\n",
        "nodeA.left = nodeC\n",
        "nodeA.right = nodeD\n",
        "\n",
        "nodeB.left = nodeE\n",
        "nodeB.right = nodeF\n",
        "\n",
        "nodeF.left = nodeG\n",
        "\n",
        "InOrderTraversal(root)\n",
        "\n",
        "# Print the value of the node referenced by root.right.right.data\n",
        "# print(\"Value:\", root.left.left.data)  # Output: Value: F"
      ],
      "metadata": {
        "colab": {
          "base_uri": "https://localhost:8080/"
        },
        "id": "_SPUzbUf06vU",
        "outputId": "98948802-ac37-4286-8ce7-15d3017123a3"
      },
      "execution_count": 2,
      "outputs": [
        {
          "output_type": "stream",
          "name": "stdout",
          "text": [
            "C, A, D, R, E, B, G, F, "
          ]
        }
      ]
    },
    {
      "cell_type": "code",
      "source": [],
      "metadata": {
        "id": "BSc8oN7JJpbA"
      },
      "execution_count": null,
      "outputs": []
    }
  ]
}